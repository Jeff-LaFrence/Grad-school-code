{
 "cells": [
  {
   "cell_type": "markdown",
   "id": "34c886b5",
   "metadata": {},
   "source": [
    "import stLearn and program for tracking path indicies:"
   ]
  },
  {
   "cell_type": "code",
   "execution_count": null,
   "id": "123e3cab",
   "metadata": {},
   "outputs": [],
   "source": [
    "# import module\n",
    "import stlearn as st\n",
    "from pathlib import Path\n",
    "st.settings.set_figure_params(dpi=180)"
   ]
  },
  {
   "cell_type": "markdown",
   "id": "a147a330",
   "metadata": {},
   "source": [
    "import pandas, numpy, and scanpy for data management, os for os interface, and sklearn for post-clustering analysis:"
   ]
  },
  {
   "cell_type": "code",
   "execution_count": null,
   "id": "6bf52039",
   "metadata": {},
   "outputs": [],
   "source": [
    "import pandas as pd\n",
    "from sklearn.metrics import adjusted_rand_score, normalized_mutual_info_score, silhouette_score, \\\n",
    "                            homogeneity_completeness_v_measure\n",
    "from sklearn.metrics.cluster import contingency_matrix\n",
    "from sklearn.preprocessing import LabelEncoder\n",
    "import numpy as np\n",
    "import scanpy\n",
    "import os"
   ]
  },
  {
   "cell_type": "markdown",
   "id": "f595a286",
   "metadata": {},
   "source": [
    "Specify folder that all sample sub folders are listed under:"
   ]
  },
  {
   "cell_type": "code",
   "execution_count": null,
   "id": "4bdec0dd",
   "metadata": {},
   "outputs": [],
   "source": [
    "# specify PATH to data\n",
    "BASE_PATH = Path(\"/Users/golde/Downloads/HumanPilot-master/HumanPilot-master/10X\")"
   ]
  },
  {
   "cell_type": "markdown",
   "id": "212292f9",
   "metadata": {},
   "source": [
    "Run sample analysis on all data sets:"
   ]
  },
  {
   "cell_type": "code",
   "execution_count": null,
   "id": "203e30a4",
   "metadata": {
    "tags": []
   },
   "outputs": [],
   "source": [
    "sample_list = [\"151507\", \"151508\", \"151509\",\n",
    "               \"151510\", \"151669\", \"151670\",\n",
    "               \"151671\", \"151672\", \"151673\",\n",
    "               \"151674\", \"151675\", \"151676\"]"
   ]
  },
  {
   "cell_type": "markdown",
   "id": "ee8c2bb4",
   "metadata": {},
   "source": [
    "Test running on sample from stLearn paper alone:"
   ]
  },
  {
   "cell_type": "code",
   "execution_count": null,
   "id": "222ada73",
   "metadata": {
    "tags": []
   },
   "outputs": [],
   "source": [
    "#sample_list = [\"151673\"]"
   ]
  },
  {
   "cell_type": "markdown",
   "id": "4563ecef",
   "metadata": {},
   "source": [
    "Create function for calculating purity score:"
   ]
  },
  {
   "cell_type": "code",
   "execution_count": null,
   "id": "1e2f07e2",
   "metadata": {},
   "outputs": [],
   "source": [
    "def purity_score(y_true, y_pred):\n",
    "    # compute contingency matrix (also called confusion matrix)\n",
    "    cm = contingency_matrix(y_true, y_pred)\n",
    "    # return purity\n",
    "    return np.sum(np.amax(cm, axis=0)) / np.sum(cm)"
   ]
  },
  {
   "cell_type": "markdown",
   "id": "97b3c8a2",
   "metadata": {},
   "source": [
    "Pull in ground truth data and display ground truth mapped tissue slides:"
   ]
  },
  {
   "cell_type": "code",
   "execution_count": null,
   "id": "d8b9f383",
   "metadata": {},
   "outputs": [],
   "source": [
    "for i in range(len(sample_list)):\n",
    "    sample = sample_list[i]\n",
    "\n",
    "    GROUND_TRUTH_PATH = BASE_PATH / sample / \"cluster_labels_{}.csv\".format(sample)\n",
    "    ground_truth_df = pd.read_csv(GROUND_TRUTH_PATH, sep=',', index_col=0)\n",
    "    ground_truth_df.index = ground_truth_df.index.map(lambda x: x[7:])\n",
    "\n",
    "    le = LabelEncoder()\n",
    "    ground_truth_le = le.fit_transform(list(ground_truth_df[\"ground_truth\"].values))\n",
    "    ground_truth_df[\"ground_truth_le\"] = ground_truth_le\n",
    "\n",
    "    # load data\n",
    "    data = st.Read10X(BASE_PATH / sample)\n",
    "    ground_truth_df = ground_truth_df.reindex(data.obs_names)\n",
    "    data.obs[\"ground_truth\"] = pd.Categorical(ground_truth_df[\"ground_truth\"])\n",
    "    st.pl.cluster_plot(data, use_label=\"ground_truth\", cell_alpha=0.5)"
   ]
  },
  {
   "cell_type": "markdown",
   "id": "5211476a",
   "metadata": {},
   "source": [
    "Create function to analyze clustering data and build matrix for outputs:"
   ]
  },
  {
   "cell_type": "code",
   "execution_count": null,
   "id": "a0c757cd",
   "metadata": {},
   "outputs": [],
   "source": [
    "def calculate_clustering_matrix(pred, gt, sample, methods_):\n",
    "    df = pd.DataFrame(columns=['Sample', 'Score', 'PCA_or_UMAP', 'Method', \"test\"])\n",
    "\n",
    "    pca_ari = adjusted_rand_score(pred, gt)\n",
    "    df = df.append(pd.Series([sample, pca_ari, \"pca\", methods_, \"Adjusted_Rand_Score\"],\n",
    "                             index=['Sample', 'Score', 'PCA_or_UMAP', 'Method', \"test\"]), ignore_index=True)\n",
    "\n",
    "    pca_nmi = normalized_mutual_info_score(pred, gt)\n",
    "    df = df.append(pd.Series([sample, pca_nmi, \"pca\", methods_, \"Normalized_Mutual_Info_Score\"],\n",
    "                             index=['Sample', 'Score', 'PCA_or_UMAP', 'Method', \"test\"]), ignore_index=True)\n",
    "\n",
    "    pca_purity = purity_score(pred, gt)\n",
    "    df = df.append(pd.Series([sample, pca_purity, \"pca\", methods_, \"Purity_Score\"],\n",
    "                             index=['Sample', 'Score', 'PCA_or_UMAP', 'Method', \"test\"]), ignore_index=True)\n",
    "\n",
    "    pca_homogeneity, pca_completeness, pca_v_measure = homogeneity_completeness_v_measure(pred, gt)\n",
    "\n",
    "    df = df.append(pd.Series([sample, pca_homogeneity, \"pca\", methods_, \"Homogeneity_Score\"],\n",
    "                             index=['Sample', 'Score', 'PCA_or_UMAP', 'Method', \"test\"]), ignore_index=True)\n",
    "\n",
    "\n",
    "    df = df.append(pd.Series([sample, pca_completeness, \"pca\", methods_, \"Completeness_Score\"],\n",
    "                             index=['Sample', 'Score', 'PCA_or_UMAP', 'Method', \"test\"]), ignore_index=True)\n",
    "\n",
    "    df = df.append(pd.Series([sample, pca_v_measure, \"pca\", methods_, \"V_Measure_Score\"],\n",
    "                             index=['Sample', 'Score', 'PCA_or_UMAP', 'Method', \"test\"]), ignore_index=True)\n",
    "    return df"
   ]
  },
  {
   "cell_type": "markdown",
   "id": "c59a47b3",
   "metadata": {},
   "source": [
    "Create data frame for outputs:"
   ]
  },
  {
   "cell_type": "code",
   "execution_count": null,
   "id": "83d011b0",
   "metadata": {},
   "outputs": [],
   "source": [
    "df = pd.DataFrame(columns=['Sample', 'Score', 'PCA_or_UMAP', 'Method', \"test\"])"
   ]
  },
  {
   "cell_type": "markdown",
   "id": "22daa79a",
   "metadata": {},
   "source": [
    "Run stlearn program with stSME normalization, return tissue images with clustering mapped to them:"
   ]
  },
  {
   "cell_type": "code",
   "execution_count": null,
   "id": "1bb1afb2",
   "metadata": {},
   "outputs": [],
   "source": [
    "#with stSME normalization\n",
    "for i in range(12):\n",
    "    sample = sample_list[i]\n",
    "    GROUND_TRUTH_PATH = BASE_PATH / sample / \"cluster_labels_{}.csv\".format(sample)\n",
    "    ground_truth_df = pd.read_csv(GROUND_TRUTH_PATH, sep=',', index_col=0)\n",
    "    ground_truth_df.index = ground_truth_df.index.map(lambda x: x[7:])\n",
    "\n",
    "    le = LabelEncoder()\n",
    "    ground_truth_le = le.fit_transform(list(ground_truth_df[\"ground_truth\"].values))\n",
    "    ground_truth_df[\"ground_truth_le\"] = ground_truth_le\n",
    "    TILE_PATH = Path(\"/tmp/{}_tiles\".format(sample))\n",
    "    TILE_PATH.mkdir(parents=True, exist_ok=True)\n",
    "    data = st.Read10X(BASE_PATH / sample)\n",
    "    ground_truth_df = ground_truth_df.reindex(data.obs_names)\n",
    "    n_cluster = len((set(ground_truth_df[\"ground_truth\"]))) - 1\n",
    "    data.obs['ground_truth'] = ground_truth_df[\"ground_truth\"]\n",
    "    ground_truth_le = ground_truth_df[\"ground_truth_le\"]\n",
    "\n",
    "    # pre-processing for gene count table\n",
    "    st.pp.filter_genes(data,min_cells=1)\n",
    "    st.pp.normalize_total(data)\n",
    "    st.pp.log1p(data)\n",
    "\n",
    "    # run PCA for gene expression data\n",
    "    st.em.run_pca(data,n_comps=15)\n",
    "\n",
    "    # pre-processing for spot image\n",
    "    st.pp.tiling(data, TILE_PATH)\n",
    "\n",
    "    # this step uses deep learning model to extract high-level features from tile images\n",
    "    # may need few minutes to be completed\n",
    "    st.pp.extract_feature(data)\n",
    "\n",
    "    # stSME\n",
    "    st.spatial.SME.SME_normalize(data, use_data=\"raw\", weights=\"physical_distance\")\n",
    "    data_ = data.copy()\n",
    "    data_.X = data_.obsm['raw_SME_normalized']\n",
    "\n",
    "    st.pp.scale(data_)\n",
    "    st.em.run_pca(data_,n_comps=15)\n",
    "    \n",
    "    # K-means clustering on stSME normalised PCA\n",
    "    st.tl.clustering.kmeans(data_, n_clusters=n_cluster, use_data=\"X_pca\", key_added=\"X_pca_kmeans\")\n",
    "    st.pl.cluster_plot(data_, use_label=\"X_pca_kmeans\")\n",
    "\n",
    "    methods_ = \"stSME_disk\"\n",
    "    results_df = calculate_clustering_matrix(data_.obs[\"X_pca_kmeans\"], ground_truth_le, sample, methods_)\n",
    "    df = df.append(results_df, ignore_index=True)"
   ]
  },
  {
   "cell_type": "markdown",
   "id": "f3d47418",
   "metadata": {},
   "source": [
    "Run stlearn program without stSME normalization, return tissue images with clustering mapped to them:"
   ]
  },
  {
   "cell_type": "code",
   "execution_count": null,
   "id": "be1902bf",
   "metadata": {},
   "outputs": [],
   "source": [
    "#without stSME notmalozation\n",
    "for i in range(12):\n",
    "    sample = sample_list[i]\n",
    "    GROUND_TRUTH_PATH = BASE_PATH / sample / \"cluster_labels_{}.csv\".format(sample)\n",
    "    ground_truth_df = pd.read_csv(GROUND_TRUTH_PATH, sep=',', index_col=0)\n",
    "    ground_truth_df.index = ground_truth_df.index.map(lambda x: x[7:])\n",
    "\n",
    "    le = LabelEncoder()\n",
    "    ground_truth_le = le.fit_transform(list(ground_truth_df[\"ground_truth\"].values))\n",
    "    ground_truth_df[\"ground_truth_le\"] = ground_truth_le\n",
    "    TILE_PATH = Path(\"/tmp/{}_tiles\".format(sample))\n",
    "    TILE_PATH.mkdir(parents=True, exist_ok=True)\n",
    "    data = st.Read10X(BASE_PATH / sample)\n",
    "    ground_truth_df = ground_truth_df.reindex(data.obs_names)\n",
    "    n_cluster = len((set(ground_truth_df[\"ground_truth\"]))) - 1\n",
    "    data.obs['ground_truth'] = ground_truth_df[\"ground_truth\"]\n",
    "    ground_truth_le = ground_truth_df[\"ground_truth_le\"]\n",
    "\n",
    "    # pre-processing for gene count table\n",
    "    st.pp.filter_genes(data,min_cells=1)\n",
    "    st.pp.normalize_total(data)\n",
    "    st.pp.log1p(data)\n",
    "\n",
    "    # run PCA for gene expression data\n",
    "    st.em.run_pca(data,n_comps=15)\n",
    "\n",
    "    # pre-processing for spot image\n",
    "    st.pp.tiling(data, TILE_PATH)\n",
    "\n",
    "    # this step uses deep learning model to extract high-level features from tile images\n",
    "    # may need few minutes to be completed\n",
    "    st.pp.extract_feature(data)\n",
    "\n",
    "    # stSME\n",
    "    data_ = data.copy()\n",
    "    \n",
    "    # K-means clustering on non-stSME normalised PCA\n",
    "    st.tl.clustering.kmeans(data_, n_clusters=n_cluster, use_data=\"X_pca\", key_added=\"X_pca_kmeans\")\n",
    "    st.pl.cluster_plot(data_, use_label=\"X_pca_kmeans\")\n",
    "\n",
    "    methods_ = \"no_stSME_disk\"\n",
    "    results_df = calculate_clustering_matrix(data_.obs[\"X_pca_kmeans\"], ground_truth_le, sample, methods_)\n",
    "    df = df.append(results_df, ignore_index=True)"
   ]
  },
  {
   "cell_type": "markdown",
   "id": "743f1dba",
   "metadata": {},
   "source": [
    "Import seaborn plotting program and plotting parameters:"
   ]
  },
  {
   "cell_type": "code",
   "execution_count": null,
   "id": "d11be7ea",
   "metadata": {},
   "outputs": [],
   "source": [
    "import seaborn as sns\n",
    "import matplotlib.pyplot as plt\n",
    "sns.set_style(\"white\")\n",
    "from matplotlib.patches import PathPatch\n",
    "\n",
    "def adjust_box_widths(g, fac):\n",
    "    \"\"\"\n",
    "    Adjust the widths of a seaborn-generated boxplot.\n",
    "    \"\"\"\n",
    "\n",
    "    # iterating through Axes instances\n",
    "    for ax in g.axes:\n",
    "\n",
    "        # iterating through axes artists:\n",
    "        for c in ax.get_children():\n",
    "\n",
    "            # searching for PathPatches\n",
    "            if isinstance(c, PathPatch):\n",
    "                # getting current width of box:\n",
    "                p = c.get_path()\n",
    "                verts = p.vertices\n",
    "                verts_sub = verts[:-1]\n",
    "                xmin = np.min(verts_sub[:, 0])\n",
    "                xmax = np.max(verts_sub[:, 0])\n",
    "                xmid = 0.5*(xmin+xmax)\n",
    "                xhalf = 0.5*(xmax - xmin)\n",
    "\n",
    "                # setting new width of box\n",
    "                xmin_new = xmid-fac*xhalf\n",
    "                xmax_new = xmid+fac*xhalf\n",
    "                verts_sub[verts_sub[:, 0] == xmin, 0] = xmin_new\n",
    "                verts_sub[verts_sub[:, 0] == xmax, 0] = xmax_new\n",
    "\n",
    "                # setting new width of median line\n",
    "                for l in ax.lines:\n",
    "                    if np.all(l.get_xdata() == [xmin, xmax]):\n",
    "                        l.set_xdata([xmin_new, xmax_new])\n",
    "\n",
    "\n",
    "class GridShader():\n",
    "    def __init__(self, ax, first=True, **kwargs):\n",
    "        self.spans = []\n",
    "        self.sf = first\n",
    "        self.ax = ax\n",
    "        self.kw = kwargs\n",
    "        self.ax.autoscale(False, axis=\"x\")\n",
    "        self.cid = self.ax.callbacks.connect('xlim_changed', self.shade)\n",
    "        self.shade()\n",
    "    def clear(self):\n",
    "        for span in self.spans:\n",
    "            try:\n",
    "                span.remove()\n",
    "            except:\n",
    "                pass\n",
    "    def shade(self, evt=None):\n",
    "        self.clear()\n",
    "        xticks = self.ax.get_xticks()\n",
    "        xlim = self.ax.get_xlim()\n",
    "        xticks = xticks[(xticks > xlim[0]) & (xticks < xlim[-1])]\n",
    "        locs = np.concatenate(([[xlim[0]], xticks+0.5, [xlim[-1]]]))\n",
    "\n",
    "        start = locs[1-int(self.sf)::2]\n",
    "        end = locs[2-int(self.sf)::2]\n",
    "\n",
    "        for s, e in zip(start, end):\n",
    "            self.spans.append(self.ax.axvspan(s, e, zorder=0, **self.kw))"
   ]
  },
  {
   "cell_type": "markdown",
   "id": "9157debb",
   "metadata": {},
   "source": [
    "Create plot of post clustering comparative statistics:"
   ]
  },
  {
   "cell_type": "code",
   "execution_count": null,
   "id": "1915fa0b",
   "metadata": {},
   "outputs": [],
   "source": [
    "import seaborn as sns\n",
    "fig = plt.figure(figsize=(15, 5))\n",
    "a = sns.boxplot(x=\"Method\", y=\"Score\", hue=\"test\",\n",
    "\n",
    "               width=0.7,\n",
    "               data=df)\n",
    "a.set_xticklabels(a.get_xticklabels(), rotation=45)\n",
    "sns.despine(left=True)\n",
    "a.legend(bbox_to_anchor=(1.05, 1), loc=2, borderaxespad=0.)\n",
    "adjust_box_widths(fig, 0.7)\n",
    "plt.autoscale()\n",
    "gs = GridShader(a, facecolor=\"lightgrey\", first=False, alpha=0.7)\n",
    "plt.tight_layout()\n",
    "#save plot as file\n",
    "plt.savefig(\"./clustering_performace.png\", dpi=300)\n",
    "plt.show()"
   ]
  },
  {
   "cell_type": "code",
   "execution_count": null,
   "id": "637b4598",
   "metadata": {},
   "outputs": [],
   "source": [
    "df"
   ]
  },
  {
   "cell_type": "code",
   "execution_count": null,
   "id": "b0446a59",
   "metadata": {},
   "outputs": [],
   "source": []
  }
 ],
 "metadata": {
  "kernelspec": {
   "display_name": "Python 3",
   "language": "python",
   "name": "python3"
  },
  "language_info": {
   "codemirror_mode": {
    "name": "ipython",
    "version": 3
   },
   "file_extension": ".py",
   "mimetype": "text/x-python",
   "name": "python",
   "nbconvert_exporter": "python",
   "pygments_lexer": "ipython3",
   "version": "3.8.3"
  }
 },
 "nbformat": 4,
 "nbformat_minor": 5
}
